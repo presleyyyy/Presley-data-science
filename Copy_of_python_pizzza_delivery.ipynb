{
  "nbformat": 4,
  "nbformat_minor": 0,
  "metadata": {
    "colab": {
      "provenance": [],
      "authorship_tag": "ABX9TyNah+Z8ES24YkhuL6wduda3",
      "include_colab_link": true
    },
    "kernelspec": {
      "name": "python3",
      "display_name": "Python 3"
    },
    "language_info": {
      "name": "python"
    }
  },
  "cells": [
    {
      "cell_type": "markdown",
      "metadata": {
        "id": "view-in-github",
        "colab_type": "text"
      },
      "source": [
        "<a href=\"https://colab.research.google.com/github/presleyyyy/Presley-data-science/blob/main/Copy_of_python_pizzza_delivery.ipynb\" target=\"_parent\"><img src=\"https://colab.research.google.com/assets/colab-badge.svg\" alt=\"Open In Colab\"/></a>"
      ]
    },
    {
      "cell_type": "code",
      "execution_count": null,
      "metadata": {
        "id": "R2gAnOmtRHgW",
        "colab": {
          "base_uri": "https://localhost:8080/"
        },
        "outputId": "bed78f10-3716-46a6-efc3-3b98df04e558"
      },
      "outputs": [
        {
          "output_type": "stream",
          "name": "stdout",
          "text": [
            "welcome to python pizza delivery\n",
            "what pizza size do you want?(S,M,L)L\n",
            "Do you want to add pepperoni(Y or N)Y\n",
            "do you want extra cheese(Y or N)N\n",
            "your final bill is $28\n"
          ]
        }
      ],
      "source": [
        "print(\"welcome to python pizza delivery\")\n",
        "\n",
        "#prompt for pizza size\n",
        "size=input('what pizza size do you want?(S,M,L)')\n",
        "\n",
        "#prompt for pepperoni\n",
        "add_pepperoni=input('Do you want to add pepperoni(Y or N)')\n",
        "\n",
        "#prompt for extra cheese\n",
        "add_extra_cheese=input('do you want extra cheese(Y or N)')\n",
        "\n",
        "# deine pizza prices\n",
        "small_pizza_prices = 15\n",
        "medium_pizza_prices = 20\n",
        "large_pizza_prices = 25\n",
        "pepperoni_small_prices =2\n",
        "pepperoni_medium_prices =3\n",
        "pepperoni_large_prices =3\n",
        "extra_cheese_prices =1\n",
        "\n",
        "bill=0\n",
        "\n",
        "#calculate the base price based on the pizza size\n",
        "if size == 'S':\n",
        "  bill+= small_pizza_prices\n",
        "elif size=='M':\n",
        "  bill+= medium_pizza_prices\n",
        "elif size =='L':\n",
        "    bill+= large_pizza_prices\n",
        "\n",
        "#calculate the price of pepperoni based on the pizza size\n",
        "if add_pepperoni== 'Y':\n",
        "  if size =='S':\n",
        "     bill+= pepperoni_small_prices\n",
        "if size=='L':\n",
        "  bill+= pepperoni_large_prices\n",
        "\n",
        "if add_extra_cheese =='Y':\n",
        "  bill+= extra_cheese_prices\n",
        "\n",
        "\n",
        "print(f\"your final bill is ${bill}\")"
      ]
    }
  ]
}