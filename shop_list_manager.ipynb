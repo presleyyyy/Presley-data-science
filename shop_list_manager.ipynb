{
  "nbformat": 4,
  "nbformat_minor": 0,
  "metadata": {
    "colab": {
      "provenance": [],
      "authorship_tag": "ABX9TyOPHFgxZjejnTqaSE39A0Ch",
      "include_colab_link": true
    },
    "kernelspec": {
      "name": "python3",
      "display_name": "Python 3"
    },
    "language_info": {
      "name": "python"
    }
  },
  "cells": [
    {
      "cell_type": "markdown",
      "metadata": {
        "id": "view-in-github",
        "colab_type": "text"
      },
      "source": [
        "<a href=\"https://colab.research.google.com/github/presleyyyy/Presley-data-science/blob/main/shop_list_manager.ipynb\" target=\"_parent\"><img src=\"https://colab.research.google.com/assets/colab-badge.svg\" alt=\"Open In Colab\"/></a>"
      ]
    },
    {
      "cell_type": "code",
      "execution_count": 1,
      "metadata": {
        "colab": {
          "base_uri": "https://localhost:8080/"
        },
        "id": "SIKPFyBRRiT5",
        "outputId": "3908ce86-79c1-4401-b24e-e5a545437483"
      },
      "outputs": [
        {
          "output_type": "stream",
          "name": "stdout",
          "text": [
            "\n",
            "Welcome to the Shopping List Manager!\n",
            "1. Add an item to the list\n",
            "2. Remove an item from the list\n",
            "3. View the current list of items\n",
            "4. Quit the program\n",
            "Enter the number of your choice: 1\n",
            "Enter the item you want to add: apples,bags\n",
            "\n",
            "Welcome to the Shopping List Manager!\n",
            "1. Add an item to the list\n",
            "2. Remove an item from the list\n",
            "3. View the current list of items\n",
            "4. Quit the program\n",
            "Enter the number of your choice: 2\n",
            "Enter the item you want to remove: apples\n",
            "That item is not in your shopping list.\n",
            "\n",
            "Welcome to the Shopping List Manager!\n",
            "1. Add an item to the list\n",
            "2. Remove an item from the list\n",
            "3. View the current list of items\n",
            "4. Quit the program\n",
            "Enter the number of your choice: 4\n",
            "Thank you for using the Shopping List Manager! Have a great day!\n"
          ]
        }
      ],
      "source": [
        "# Step 1: Import the necessary libraries\n",
        "import time\n",
        "\n",
        "# Step 2: Initialize the list named 'shopping_list' to store the items\n",
        "shopping_list = []\n",
        "\n",
        "# Step 3: Use a while loop to create a menu of options for the user to add, remove, or view items from the list\n",
        "while True:\n",
        "    print(\"\\nWelcome to the Shopping List Manager!\")\n",
        "    print(\"1. Add an item to the list\")\n",
        "    print(\"2. Remove an item from the list\")\n",
        "    print(\"3. View the current list of items\")\n",
        "    print(\"4. Quit the program\")\n",
        "\n",
        "    # Step 4: Use the input() function to prompt the user to make a selection from the menu\n",
        "    choice = input(\"Enter the number of your choice: \")\n",
        "\n",
        "    # Step 5: Use an if-elif-else block to determine the user's selection and perform the corresponding action\n",
        "    if choice == '1':\n",
        "        # Step 6: If the user selects 'add', use the input() function to prompt the user to enter an item to add to the list\n",
        "        # Use the range() function to limit the number of items that can be added to the list\n",
        "        if len(shopping_list) < 10:\n",
        "            item = input(\"Enter the item you want to add: \")\n",
        "            shopping_list.append(item)\n",
        "        else:\n",
        "            print(\"Your shopping list is full. Please remove an item before adding a new one.\")\n",
        "\n",
        "    elif choice == '2':\n",
        "        # Step 7: If the user selects 'remove', use the input() function to prompt the user to enter an item to remove from the list\n",
        "        item = input(\"Enter the item you want to remove: \")\n",
        "        if item in shopping_list:\n",
        "            shopping_list.remove(item)\n",
        "        else:\n",
        "            print(\"That item is not in your shopping list.\")\n",
        "\n",
        "    elif choice == '3':\n",
        "        # Step 8: If the user selects 'view', use a for loop to iterate through the list of items and display them to the user\n",
        "        print(\"\\nHere is your current shopping list:\")\n",
        "        for item in shopping_list:\n",
        "            print(item)\n",
        "        time.sleep(2)\n",
        "\n",
        "    elif choice == '4':\n",
        "        # Step 9: If the user selects 'quit', use the break statement to exit the while loop\n",
        "        print(\"Thank you for using the Shopping List Manager! Have a great day!\")\n",
        "        break\n",
        "\n",
        "    else:\n",
        "        print(\"Invalid choice. Please try again.\")"
      ]
    }
  ]
}