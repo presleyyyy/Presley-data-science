{
  "nbformat": 4,
  "nbformat_minor": 0,
  "metadata": {
    "colab": {
      "provenance": [],
      "include_colab_link": true
    },
    "kernelspec": {
      "name": "python3",
      "display_name": "Python 3"
    },
    "language_info": {
      "name": "python"
    }
  },
  "cells": [
    {
      "cell_type": "markdown",
      "metadata": {
        "id": "view-in-github",
        "colab_type": "text"
      },
      "source": [
        "<a href=\"https://colab.research.google.com/github/presleyyyy/Presley-data-science/blob/main/caculator_program5.ipynb\" target=\"_parent\"><img src=\"https://colab.research.google.com/assets/colab-badge.svg\" alt=\"Open In Colab\"/></a>"
      ]
    },
    {
      "cell_type": "markdown",
      "source": [
        ">Create a new file called \"calculator_2.0.py\"\n",
        "Create a class called \"Calculator\" that contains the following:\n",
        "A dictionary attribute to store the available mathematical operations and their corresponding functions\n",
        "A method called \"init\" that initializes the dictionary with the basic mathematical operations (+, -, *, /) and corresponding functions\n",
        "A method called \"add_operation\" that takes in two arguments: the operation symbol and the corresponding function. This method should add the new operation and function to the dictionary.\n",
        "A method called \"calculate\" that takes in three arguments: the first number, the operation symbol, and the second number. This method should use the dictionary to determine the appropriate function to perform the calculation. It should also include error handling to check if the operation symbol is valid and if the input values are numbers. If an error is encountered, the method should print an error message and raise an exception.\n",
        "Create separate functions for the advanced mathematical operations (exponentiation, square root, logarithm) and use the \"add_operation\" method to add them to the calculator's dictionary.\n",
        "In the main program, create an instance of the Calculator class, and use a while loop that allows the user to continue performing calculations until they choose to exit.\n",
        "Use the input() function to get input from the user for the numbers and operation symbol.Use the math library for advanced mathematical operations\n",
        "Use the isinstance() function to check if the input is a number."
      ],
      "metadata": {
        "id": "os_DMkzsVncY"
      }
    },
    {
      "cell_type": "code",
      "source": [
        "import math\n",
        "\n",
        "class Calculator:\n",
        "    def __init__(self):\n",
        "        self.operations = {\n",
        "            '+': self.add,\n",
        "            '-': self.subtract,\n",
        "            '*': self.multiply,\n",
        "            '/': self.divide\n",
        "        }\n",
        "\n",
        "    def add_operation(self, symbol, function):\n",
        "        self.operations[symbol] = function\n",
        "\n",
        "    def calculate(self, num1, operation, num2):\n",
        "        if operation not in self.operations:\n",
        "            print(\"Error: Invalid operation\")\n",
        "            raise ValueError(\"Invalid operation\")\n",
        "        if not (isinstance(num1, (int, float)) and isinstance(num2, (int, float))):\n",
        "            print(\"Error: Inputs must be numbers\")\n",
        "            raise ValueError(\"Inputs must be numbers\")\n",
        "        return self.operations[operation](num1, num2)\n",
        "\n",
        "    def add(self, x, y):\n",
        "        return x + y\n",
        "\n",
        "    def subtract(self, x, y):\n",
        "        return x - y\n",
        "\n",
        "    def multiply(self, x, y):\n",
        "        return x * y\n",
        "\n",
        "    def divide(self, x, y):\n",
        "        if y == 0:\n",
        "            raise ValueError(\"Division by zero is undefined\")\n",
        "        return x / y\n",
        "\n",
        "    def exponentiation(self, x, y):\n",
        "        return x ** y\n",
        "\n",
        "    def square_root(self, x):\n",
        "        return math.sqrt(x)\n",
        "\n",
        "    def logarithm(self, x, base):\n",
        "        return math.log(x, base)\n",
        "\n",
        "if __name__ == \"__main__\":\n",
        "    calculator = Calculator()\n",
        "\n",
        "    while True:\n",
        "        num1 = input(\"Enter the first number: \")\n",
        "        if num1.lower() == 'exit':\n",
        "            break\n",
        "        if not num1.isdigit() and not num1.replace('.', '').isdigit():\n",
        "            print(\"Invalid input! Please enter a number.\")\n",
        "            continue\n",
        "\n",
        "        operation = input(\"Enter the operation (+, -, *, /, ^, sqrt, log): \")\n",
        "        if operation.lower() == 'exit':\n",
        "            break\n",
        "\n",
        "        if operation not in calculator.operations:\n",
        "            print(\"Invalid operation! Please choose from +, -, *, /, ^, sqrt, log.\")\n",
        "            continue\n",
        "\n",
        "        num2 = input(\"Enter the second number: \")\n",
        "        if num2.lower() == 'exit':\n",
        "            break\n",
        "        if not num2.isdigit() and not num2.replace('.', '').isdigit():\n",
        "            print(\"Invalid input! Please enter a number.\")\n",
        "            continue\n",
        "\n",
        "        num1 = float(num1)\n",
        "        num2 = float(num2)\n",
        "\n",
        "        if operation == '/' and num2 == 0:\n",
        "            print(\"Error: Division by zero is undefined\")\n",
        "            continue\n",
        "\n",
        "        result = calculator.calculate(num1, operation, num2)\n",
        "        print(\"Result:\", result)\n"
      ],
      "metadata": {
        "colab": {
          "base_uri": "https://localhost:8080/"
        },
        "id": "Dqmwqg1EX1YC",
        "outputId": "642615ed-5e82-4da7-f08e-e4135f638640"
      },
      "execution_count": null,
      "outputs": [
        {
          "name": "stdout",
          "output_type": "stream",
          "text": [
            "Enter the first number: 15\n",
            "Enter the operation (+, -, *, /, ^, sqrt, log): *\n",
            "Enter the second number: 2\n",
            "Result: 30.0\n",
            "Enter the first number: exit\n"
          ]
        }
      ]
    }
  ]
}