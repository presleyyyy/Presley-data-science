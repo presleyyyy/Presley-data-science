{
  "nbformat": 4,
  "nbformat_minor": 0,
  "metadata": {
    "colab": {
      "provenance": [],
      "include_colab_link": true
    },
    "kernelspec": {
      "name": "python3",
      "display_name": "Python 3"
    },
    "language_info": {
      "name": "python"
    }
  },
  "cells": [
    {
      "cell_type": "markdown",
      "metadata": {
        "id": "view-in-github",
        "colab_type": "text"
      },
      "source": [
        "<a href=\"https://colab.research.google.com/github/presleyyyy/Presley-data-science/blob/main/numpy.ipynb\" target=\"_parent\"><img src=\"https://colab.research.google.com/assets/colab-badge.svg\" alt=\"Open In Colab\"/></a>"
      ]
    },
    {
      "cell_type": "code",
      "execution_count": null,
      "metadata": {
        "colab": {
          "base_uri": "https://localhost:8080/"
        },
        "id": "GWFB4LH4g6O6",
        "outputId": "f64d1141-159e-424d-f833-406a0c41b1b5"
      },
      "outputs": [
        {
          "output_type": "stream",
          "name": "stdout",
          "text": [
            "Mean Grade: 87.5\n",
            "Median Grade: 88.5\n",
            "Standard Deviation: 6.591661399070799\n",
            "Maximum Grade: 98\n",
            "Minimum Grade: 75\n",
            "Sorted Grades: [75 80 83 85 88 89 90 92 95 98]\n",
            "Index of Highest Grade: 7\n",
            "Number of Students above 90: 3\n",
            "Percentage of Students above 90: 30.0\n",
            "Percentage of Students below 75: 0.0\n",
            "High Performers: [92 95 98]\n",
            "Passing Grades above 75: [85 90 88 92 95 80 98 89 83]\n"
          ]
        }
      ],
      "source": [
        "import numpy as np\n",
        "\n",
        "# Create the grades array\n",
        "grades = np.array([85, 90, 88, 92, 95, 80, 75, 98, 89, 83])\n",
        "\n",
        "# Calculate mean, median, and standard deviation\n",
        "mean_grade = np.mean(grades)\n",
        "median_grade = np.median(grades)\n",
        "std_deviation = np.std(grades)\n",
        "\n",
        "# Find maximum and minimum grades\n",
        "max_grade = np.max(grades)\n",
        "min_grade = np.min(grades)\n",
        "\n",
        "# Sort grades in ascending order\n",
        "sorted_grades = np.sort(grades)\n",
        "\n",
        "# Find the index of the highest grade\n",
        "index_highest_grade = np.argmax(grades)\n",
        "\n",
        "# Count the number of students who scored above 90\n",
        "num_above_90 = np.sum(grades > 90)\n",
        "\n",
        "# Calculate the percentage of students who scored above 90\n",
        "percentage_above_90 = np.mean(grades > 90) * 100\n",
        "\n",
        "# Calculate the percentage of students who scored below 75\n",
        "percentage_below_75 = np.mean(grades < 75) * 100\n",
        "\n",
        "# Extract grades above 90\n",
        "high_performers = grades[grades > 90]\n",
        "\n",
        "# Create an array of passing grades above 75\n",
        "passing_grades = grades[grades > 75]\n",
        "\n",
        "# Print the results\n",
        "print(\"Mean Grade:\", mean_grade)\n",
        "print(\"Median Grade:\", median_grade)\n",
        "print(\"Standard Deviation:\", std_deviation)\n",
        "print(\"Maximum Grade:\", max_grade)\n",
        "print(\"Minimum Grade:\", min_grade)\n",
        "print(\"Sorted Grades:\", sorted_grades)\n",
        "print(\"Index of Highest Grade:\", index_highest_grade)\n",
        "print(\"Number of Students above 90:\", num_above_90)\n",
        "print(\"Percentage of Students above 90:\", percentage_above_90)\n",
        "print(\"Percentage of Students below 75:\", percentage_below_75)\n",
        "print(\"High Performers:\", high_performers)\n",
        "print(\"Passing Grades above 75:\", passing_grades)\n"
      ]
    }
  ]
}