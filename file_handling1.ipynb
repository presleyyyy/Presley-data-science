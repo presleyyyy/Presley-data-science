{
  "nbformat": 4,
  "nbformat_minor": 0,
  "metadata": {
    "colab": {
      "provenance": [],
      "include_colab_link": true
    },
    "kernelspec": {
      "name": "python3",
      "display_name": "Python 3"
    },
    "language_info": {
      "name": "python"
    }
  },
  "cells": [
    {
      "cell_type": "markdown",
      "metadata": {
        "id": "view-in-github",
        "colab_type": "text"
      },
      "source": [
        "<a href=\"https://colab.research.google.com/github/presleyyyy/Presley-data-science/blob/main/file_handling1.ipynb\" target=\"_parent\"><img src=\"https://colab.research.google.com/assets/colab-badge.svg\" alt=\"Open In Colab\"/></a>"
      ]
    },
    {
      "cell_type": "code",
      "execution_count": null,
      "metadata": {
        "id": "Q1TZhZH2ndAK"
      },
      "outputs": [],
      "source": [
        "import numpy as np\n",
        "\n",
        "# Open the CSV file and assign it to a variable\n",
        "file_path = 'your_file.csv'  # Replace 'your_file.csv' with the actual file path\n",
        "with open(file_path, 'r') as file:\n",
        "    # Use numpy genfromtxt function to read data from CSV file\n",
        "    # Specify the delimiter as ',' since it's a CSV file\n",
        "    data = np.genfromtxt(file, delimiter=',')\n",
        "\n",
        "# Perform basic statistical analysis on loan amounts\n",
        "loan_amounts = data[:, 1]  # Assuming loan amounts are in the second column, adjust accordingly\n",
        "\n",
        "mean_loan_amount = np.mean(loan_amounts)\n",
        "median_loan_amount = np.median(loan_amounts)\n",
        "std_loan_amount = np.std(loan_amounts)\n",
        "\n",
        "# Display the results\n",
        "print(f\"Mean Loan Amount: {mean_loan_amount}\")\n",
        "print(f\"Median Loan Amount: {median_loan_amount}\")\n",
        "print(f\"Standard Deviation of Loan Amount: {std_loan_amount}\")\n"
      ]
    }
  ]
}