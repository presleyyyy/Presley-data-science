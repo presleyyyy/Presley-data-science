{
  "nbformat": 4,
  "nbformat_minor": 0,
  "metadata": {
    "colab": {
      "provenance": [],
      "authorship_tag": "ABX9TyOjYRQ265GIOjvs4OJsS6U+",
      "include_colab_link": true
    },
    "kernelspec": {
      "name": "python3",
      "display_name": "Python 3"
    },
    "language_info": {
      "name": "python"
    }
  },
  "cells": [
    {
      "cell_type": "markdown",
      "metadata": {
        "id": "view-in-github",
        "colab_type": "text"
      },
      "source": [
        "<a href=\"https://colab.research.google.com/github/presleyyyy/Presley-data-science/blob/main/bank_account_.ipynb\" target=\"_parent\"><img src=\"https://colab.research.google.com/assets/colab-badge.svg\" alt=\"Open In Colab\"/></a>"
      ]
    },
    {
      "cell_type": "code",
      "execution_count": 1,
      "metadata": {
        "colab": {
          "base_uri": "https://localhost:8080/"
        },
        "id": "Wz7hC81iXpjP",
        "outputId": "b92f35ab-2911-47fb-8899-2f7b58f2b1d8"
      },
      "outputs": [
        {
          "output_type": "stream",
          "name": "stdout",
          "text": [
            "Deposited $500. New balance: $1500.0\n",
            "Withdrawn $200. New balance: $1300.0\n",
            "Current balance: $1300.0\n",
            "Deposited $1000. New balance: $6000.0\n",
            "Withdrawn $500. New balance: $5500.0\n",
            "Account1 balance: $5500.0\n",
            "Deposited $500. New balance: $2500.0\n",
            "Withdrawn $2000. New balance: $500.0\n",
            "Account2 balance: $500.0\n"
          ]
        }
      ],
      "source": [
        "class Account:\n",
        "    def __init__(self, account_number, account_balance, account_holder):\n",
        "        self.account_number = account_number\n",
        "        self.account_balance = account_balance\n",
        "        self.account_holder = account_holder\n",
        "\n",
        "    def deposit(self, amount):\n",
        "        self.account_balance += amount\n",
        "        print(f\"Deposited ${amount}. New balance: ${self.account_balance}\")\n",
        "\n",
        "    def withdraw(self, amount):\n",
        "        if self.account_balance >= amount:\n",
        "            self.account_balance -= amount\n",
        "            print(f\"Withdrawn ${amount}. New balance: ${self.account_balance}\")\n",
        "        else:\n",
        "            print(\"Insufficient funds.\")\n",
        "\n",
        "    def check_balance(self):\n",
        "        return self.account_balance\n",
        "\n",
        "\n",
        "# Create an instance of the Account class\n",
        "my_account = Account(\"120486\", 1000.0, \"Johnathan elvis\")\n",
        "\n",
        "# Perform different transactions on the account\n",
        "my_account.deposit(500)\n",
        "my_account.withdraw(200)\n",
        "print(f\"Current balance: ${my_account.check_balance()}\")\n",
        "\n",
        "# Test the program by creating multiple instances of the class and performing different transactions on them\n",
        "account1 = Account(\"954721\", 5000.0, \"June mandy\")\n",
        "account1.deposit(1000)\n",
        "account1.withdraw(500)\n",
        "print(f\"Account1 balance: ${account1.check_balance()}\")\n",
        "\n",
        "account2 = Account(\"116416\", 2000.0, \"Alice smith\")\n",
        "account2.deposit(500)\n",
        "account2.withdraw(2000)\n",
        "print(f\"Account2 balance: ${account2.check_balance()}\")"
      ]
    }
  ]
}