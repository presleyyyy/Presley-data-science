{
  "nbformat": 4,
  "nbformat_minor": 0,
  "metadata": {
    "colab": {
      "provenance": [],
      "include_colab_link": true
    },
    "kernelspec": {
      "name": "python3",
      "display_name": "Python 3"
    },
    "language_info": {
      "name": "python"
    }
  },
  "cells": [
    {
      "cell_type": "markdown",
      "metadata": {
        "id": "view-in-github",
        "colab_type": "text"
      },
      "source": [
        "<a href=\"https://colab.research.google.com/github/presleyyyy/Presley-data-science/blob/main/account1.ipynb\" target=\"_parent\"><img src=\"https://colab.research.google.com/assets/colab-badge.svg\" alt=\"Open In Colab\"/></a>"
      ]
    },
    {
      "cell_type": "markdown",
      "source": [
        "check_balance() - This method should return the current account balance.\n",
        "Instructions\n",
        "Create a new file called \"bank_account.py\"\n",
        "Define the Account class and its attributes as specified above.\n",
        "Define the deposit() method. It should take in one argument, the amount to be deposited, and add it to the account balance.\n",
        "Define the withdraw() method. It should take in one argument, the amount to be withdrawn, and subtract it from the account balance. The method should only execute the withdrawal if the account balance is greater than or equal to the amount to be withdrawn.\n",
        "Define the check_balance() method. It should return the current account balance.\n",
        "Create an instance of the Account class, and assign it to a variable called \"my_account\".\n",
        "Use the methods of the class to deposit and withdraw money from the account, and check the account balance.\n",
        "Test the program by creating multiple instances of the class and performing different transactions on them.\n"
      ],
      "metadata": {
        "id": "sv7lYv8JnvY8"
      }
    },
    {
      "cell_type": "code",
      "execution_count": null,
      "metadata": {
        "colab": {
          "base_uri": "https://localhost:8080/"
        },
        "id": "LHd7hSUbxGrl",
        "outputId": "cb724246-e655-4217-b649-387e219814ee"
      },
      "outputs": [
        {
          "output_type": "stream",
          "name": "stdout",
          "text": [
            "Deposited $500.0. New balance: $1500.0\n",
            "Withdrew $200.0. New balance: $1300.0\n",
            "Current balance: $1300.0\n",
            "Deposited $100.0. New balance: $1600.0\n",
            "Insufficient funds. Withdrawal canceled.\n",
            "Another account balance: $1600.0\n"
          ]
        }
      ],
      "source": [
        "class Account:\n",
        "    def __init__(self, account_number, account_balance, account_holder):\n",
        "        self.account_number = account_number\n",
        "        self.account_balance = account_balance\n",
        "        self.account_holder = account_holder\n",
        "\n",
        "    def deposit(self, amount):\n",
        "        self.account_balance += amount\n",
        "        print(f\"Deposited ${amount}. New balance: ${self.account_balance}\")\n",
        "\n",
        "    def withdraw(self, amount):\n",
        "        if self.account_balance >= amount:\n",
        "            self.account_balance -= amount\n",
        "            print(f\"Withdrew ${amount}. New balance: ${self.account_balance}\")\n",
        "        else:\n",
        "            print(\"Insufficient funds. Withdrawal canceled.\")\n",
        "\n",
        "    def check_balance(self):\n",
        "        return self.account_balance\n",
        "\n",
        "# Create an instance of the Account class\n",
        "my_account = Account(account_number=\"123456789\", account_balance=1000.0, account_holder=\"John Doe\")\n",
        "\n",
        "# Test the methods\n",
        "my_account.deposit(500.0)\n",
        "my_account.withdraw(200.0)\n",
        "print(f\"Current balance: ${my_account.check_balance()}\")\n",
        "\n",
        "# Test with multiple accounts\n",
        "another_account = Account(account_number=\"987654321\", account_balance=1500.0, account_holder=\"Jane Doe\")\n",
        "another_account.deposit(100.0)\n",
        "another_account.withdraw(2000.0)  # This should print \"Insufficient funds. Withdrawal canceled.\"\n",
        "print(f\"Another account balance: ${another_account.check_balance()}\")\n"
      ]
    }
  ]
}