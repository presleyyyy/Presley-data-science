{
  "nbformat": 4,
  "nbformat_minor": 0,
  "metadata": {
    "colab": {
      "provenance": [],
      "authorship_tag": "ABX9TyPn0liyIh7KYy8OqUHl5gai",
      "include_colab_link": true
    },
    "kernelspec": {
      "name": "python3",
      "display_name": "Python 3"
    },
    "language_info": {
      "name": "python"
    }
  },
  "cells": [
    {
      "cell_type": "markdown",
      "metadata": {
        "id": "view-in-github",
        "colab_type": "text"
      },
      "source": [
        "<a href=\"https://colab.research.google.com/github/presleyyyy/Presley-data-science/blob/main/calculator_program_.ipynb\" target=\"_parent\"><img src=\"https://colab.research.google.com/assets/colab-badge.svg\" alt=\"Open In Colab\"/></a>"
      ]
    },
    {
      "cell_type": "code",
      "execution_count": 1,
      "metadata": {
        "colab": {
          "base_uri": "https://localhost:8080/"
        },
        "id": "ZVhFL6mTU1gd",
        "outputId": "b83eb1b9-1bdb-457c-e74f-006cccc3d49a"
      },
      "outputs": [
        {
          "name": "stdout",
          "output_type": "stream",
          "text": [
            "Enter the first number: 5\n",
            "\n",
            "Available operations:\n",
            "+\n",
            "-\n",
            "*\n",
            "/\n",
            "Choose an operation symbol: +\n",
            "Enter the second number: 7\n",
            "\n",
            "Equation: 5.0 + 7.0 = 12.0\n",
            "Would you like to continue using the result as the first number? (yes/no): no\n"
          ]
        }
      ],
      "source": [
        "def add(num1, num2):\n",
        "    return num1 + num2\n",
        "\n",
        "def subtract(num1, num2):\n",
        "    return num1 - num2\n",
        "\n",
        "def multiply(num1, num2):\n",
        "    return num1 * num2\n",
        "\n",
        "def divide(num1, num2):\n",
        "    if num2 == 0:\n",
        "        raise ValueError(\"Cannot divide by zero\")\n",
        "    return num1 / num2\n",
        "\n",
        "operations = {\n",
        "    '+': add,\n",
        "    '-': subtract,\n",
        "    '*': multiply,\n",
        "    '/': divide\n",
        "}\n",
        "\n",
        "def calculator():\n",
        "    while True:\n",
        "        try:\n",
        "            num1 = float(input(\"Enter the first number: \"))\n",
        "            print(\"\\nAvailable operations:\")\n",
        "            for symbol in operations:\n",
        "                print(symbol)\n",
        "            operation = input(\"Choose an operation symbol: \")\n",
        "            num2 = float(input(\"Enter the second number: \"))\n",
        "            calculation_function = operations[operation]\n",
        "            answer = calculation_function(num1, num2)\n",
        "            print(f\"\\nEquation: {num1} {operation} {num2} = {answer}\")\n",
        "            should_continue = input(\"Would you like to continue using the result as the first number? (yes/no): \").lower()\n",
        "            if should_continue == 'yes':\n",
        "                num1 = answer\n",
        "            else:\n",
        "                break\n",
        "        except ValueError as e:\n",
        "            print(f\"Error: {e}\")\n",
        "        except KeyError:\n",
        "            print(\"Error: Invalid operation symbol\")\n",
        "\n",
        "calculator()"
      ]
    }
  ]
}