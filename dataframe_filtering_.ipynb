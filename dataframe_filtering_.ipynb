{
  "nbformat": 4,
  "nbformat_minor": 0,
  "metadata": {
    "colab": {
      "provenance": [],
      "include_colab_link": true
    },
    "kernelspec": {
      "name": "python3",
      "display_name": "Python 3"
    },
    "language_info": {
      "name": "python"
    }
  },
  "cells": [
    {
      "cell_type": "markdown",
      "metadata": {
        "id": "view-in-github",
        "colab_type": "text"
      },
      "source": [
        "<a href=\"https://colab.research.google.com/github/presleyyyy/Presley-data-science/blob/main/dataframe_filtering_.ipynb\" target=\"_parent\"><img src=\"https://colab.research.google.com/assets/colab-badge.svg\" alt=\"Open In Colab\"/></a>"
      ]
    },
    {
      "cell_type": "markdown",
      "source": [
        "Create a dataframe called \"employee_df\" with the following data:\n",
        "\n",
        "import pandas as pd\n",
        "\n",
        "data = {'Name': ['John', 'Mary', 'Bob', 'Sarah', 'Tom', 'Lisa'], 'Department': ['IT', 'Marketing', 'Sales', 'IT', 'Finance', 'Marketing'], 'Age': [30, 40, 25, 35, 45, 28], 'Gender': ['Male', 'Female', 'Male', 'Female', 'Male', 'Female'], 'Salary': [50000, 60000, 45000, 55000, 70000, 55000], 'Experience': [3, 7, 2, 5, 10, 4]}\n",
        "\n",
        " employee_df = pd.DataFrame(data)\n",
        "\n",
        "\n",
        "\n",
        "Use the iloc method to select the first 3 rows of the dataframe.\n",
        "Use the loc method to select all rows where the Department is \"Marketing\".\n",
        "Use the iloc method to select the Age and Gender columns for the first 4 rows of the dataframe.\n",
        "Use the loc method to select the Salary and Experience columns for all rows where the Gender is \"Male\".\n",
        "Note:\n",
        "\n",
        "iloc is used for selection by index location\n",
        "loc is used for selection by label.\n"
      ],
      "metadata": {
        "id": "0qYjxhdFIHI1"
      }
    },
    {
      "cell_type": "code",
      "source": [
        "import pandas as pd\n",
        "\n",
        "data = {'Name': ['John', 'Mary', 'Bob', 'Sarah', 'Tom', 'Lisa'],\n",
        "        'Department': ['IT', 'Marketing', 'Sales', 'IT', 'Finance', 'Marketing'],\n",
        "        'Age': [30, 40, 25, 35, 45, 28],\n",
        "        'Gender': ['Male', 'Female', 'Male', 'Female', 'Male', 'Female'],\n",
        "        'Salary': [50000, 60000, 45000, 55000, 70000, 55000],\n",
        "        'Experience': [3, 7, 2, 5, 10, 4]}\n",
        "\n",
        "employee_df = pd.DataFrame(data)\n",
        "\n",
        "# Use iloc to select the first 3 rows of the dataframe\n",
        "first_3_rows = employee_df.iloc[:3]\n",
        "print(\"First 3 rows using iloc:\")\n",
        "print(first_3_rows)\n",
        "\n",
        "# Use loc to select all rows where the Department is \"Marketing\"\n",
        "marketing_rows = employee_df.loc[employee_df['Department'] == 'Marketing']\n",
        "print(\"\\nRows where Department is 'Marketing' using loc:\")\n",
        "print(marketing_rows)\n",
        "\n",
        "# Use iloc to select the Age and Gender columns for the first 4 rows\n",
        "age_gender_first_4_rows = employee_df.iloc[:4, [2, 3]]\n",
        "print(\"\\nAge and Gender for the first 4 rows using iloc:\")\n",
        "print(age_gender_first_4_rows)\n",
        "\n",
        "# Use loc to select the Salary and Experience columns for all rows where Gender is \"Male\"\n",
        "male_salary_experience = employee_df.loc[employee_df['Gender'] == 'Male', ['Salary', 'Experience']]\n",
        "print(\"\\nSalary and Experience for rows where Gender is 'Male' using loc:\")"
      ],
      "metadata": {
        "colab": {
          "base_uri": "https://localhost:8080/"
        },
        "id": "l9Ng7vGPH0pT",
        "outputId": "9a66bce0-9a4c-460a-a67a-21f822921b1f"
      },
      "execution_count": null,
      "outputs": [
        {
          "output_type": "stream",
          "name": "stdout",
          "text": [
            "First 3 rows using iloc:\n",
            "   Name Department  Age  Gender  Salary  Experience\n",
            "0  John         IT   30    Male   50000           3\n",
            "1  Mary  Marketing   40  Female   60000           7\n",
            "2   Bob      Sales   25    Male   45000           2\n",
            "\n",
            "Rows where Department is 'Marketing' using loc:\n",
            "   Name Department  Age  Gender  Salary  Experience\n",
            "1  Mary  Marketing   40  Female   60000           7\n",
            "5  Lisa  Marketing   28  Female   55000           4\n",
            "\n",
            "Age and Gender for the first 4 rows using iloc:\n",
            "   Age  Gender\n",
            "0   30    Male\n",
            "1   40  Female\n",
            "2   25    Male\n",
            "3   35  Female\n",
            "\n",
            "Salary and Experience for rows where Gender is 'Male' using loc:\n"
          ]
        }
      ]
    }
  ]
}